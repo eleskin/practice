{
  "nbformat": 4,
  "nbformat_minor": 0,
  "metadata": {
    "colab": {
      "name": "Экономико-математическая модель транспортной задачи.ipynb",
      "provenance": [],
      "collapsed_sections": [],
      "authorship_tag": "ABX9TyMTmHE3t3Kr9CKnxuR7u0h1",
      "include_colab_link": true
    },
    "kernelspec": {
      "name": "python3",
      "display_name": "Python 3"
    },
    "language_info": {
      "name": "python"
    }
  },
  "cells": [
    {
      "cell_type": "markdown",
      "metadata": {
        "id": "view-in-github",
        "colab_type": "text"
      },
      "source": [
        "<a href=\"https://colab.research.google.com/github/eleskin/practice/blob/main/%D0%AD%D0%BA%D0%BE%D0%BD%D0%BE%D0%BC%D0%B8%D0%BA%D0%BE_%D0%BC%D0%B0%D1%82%D0%B5%D0%BC%D0%B0%D1%82%D0%B8%D1%87%D0%B5%D1%81%D0%BA%D0%B0%D1%8F_%D0%BC%D0%BE%D0%B4%D0%B5%D0%BB%D1%8C_%D1%82%D1%80%D0%B0%D0%BD%D1%81%D0%BF%D0%BE%D1%80%D1%82%D0%BD%D0%BE%D0%B9_%D0%B7%D0%B0%D0%B4%D0%B0%D1%87%D0%B8.ipynb\" target=\"_parent\"><img src=\"https://colab.research.google.com/assets/colab-badge.svg\" alt=\"Open In Colab\"/></a>"
      ]
    },
    {
      "cell_type": "markdown",
      "source": [
        "### Экономико-математическая модель транспортной задачи"
      ],
      "metadata": {
        "id": "Pen0eGwUumFR"
      }
    },
    {
      "cell_type": "markdown",
      "source": [
        "Требуется расчитать оптимальный план перевозок грузов из пунктов отправления в пункты потребления, с минимальными затратами на перевозки."
      ],
      "metadata": {
        "id": "p_5r7Gx9uvYI"
      }
    },
    {
      "cell_type": "code",
      "execution_count": 2,
      "metadata": {
        "id": "hz6ADI7Rr2RJ"
      },
      "outputs": [],
      "source": [
        "import numpy\n",
        "from cvxopt.modeling import variable, op"
      ]
    },
    {
      "cell_type": "code",
      "source": [
        "def count(mass1, mass2, mass3, mass4,mass5,mass6,z):\n",
        "  x_non_negative = (x >= 0) # общее условие для всех х      \n",
        "  problem =op(z,[mass1,mass2,mass3,mass4 ,mass5,mass6, x_non_negative])\n",
        "  problem.solve(solver='glpk')  \n",
        "  problem.status\n",
        "  print(\"Минимальная стоимость закупки -\",problem.objective.value()[0])\n",
        "  print(\"Матрица закупок:\")\n",
        "  for i in [1,4,7]:\n",
        "    print(\"|\",x.value[i-1],\"|\", x.value[i],\"|\", x.value[i+1],\"|\")"
      ],
      "metadata": {
        "id": "LO7qesOmtStK"
      },
      "execution_count": 3,
      "outputs": []
    },
    {
      "cell_type": "code",
      "source": [
        "x = variable(9, 'x')"
      ],
      "metadata": {
        "id": "YwaL08V4tWH-"
      },
      "execution_count": 4,
      "outputs": []
    },
    {
      "cell_type": "code",
      "source": [
        "z=(7*x[0] + 3*x[1] +6* x[2] +4*x[3] + 8*x[4] +2* x[5]+x[6] + 5*x[7] +9* x[8]) # целевая функция\n",
        "mass1 = (x[0] + x[1] +x[2] <= 74) # условие для первой строки матрицы закупок\n",
        "mass2 = (x[3] + x[4] +x[5] <= 40) # условие для второй строки матрицы закупок\n",
        "mass3 = (x[6] + x[7] + x[8] <= 36) # #условие для третьей строки матрицы закупок\n",
        "mass4 = (x[0] + x[3] + x[6] == 20) # условия для столбца\n",
        "mass5 = (x[1] +x[4] + x[7] == 45) # условия для столбца\n",
        "mass6 = (x[2] + x[5] + x[8] == 30) # условия для столбца"
      ],
      "metadata": {
        "id": "4xwty1rbtY00"
      },
      "execution_count": 5,
      "outputs": []
    },
    {
      "cell_type": "code",
      "source": [
        "count(mass1, mass2, mass3, mass4, mass5, mass6, z)"
      ],
      "metadata": {
        "colab": {
          "base_uri": "https://localhost:8080/"
        },
        "id": "a7LlwXpItaG0",
        "outputId": "a30fd12f-9646-4fb8-d84a-14b6dbbe013b"
      },
      "execution_count": 6,
      "outputs": [
        {
          "output_type": "stream",
          "name": "stdout",
          "text": [
            "Минимальная стоимость закупки - 215.0\n",
            "Матрица закупок:\n",
            "| 0.0 | 45.0 | 0.0 |\n",
            "| 0.0 | 0.0 | 30.0 |\n",
            "| 20.0 | 0.0 | 0.0 |\n"
          ]
        }
      ]
    }
  ]
}