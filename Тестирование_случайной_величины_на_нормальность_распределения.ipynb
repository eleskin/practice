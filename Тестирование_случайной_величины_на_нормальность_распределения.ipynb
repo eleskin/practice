{
  "nbformat": 4,
  "nbformat_minor": 0,
  "metadata": {
    "colab": {
      "name": "Тестирование случайной величины на нормальность распределения.ipynb",
      "provenance": [],
      "collapsed_sections": [],
      "authorship_tag": "ABX9TyPkrBXXSamKmUrdN4lqOnEY",
      "include_colab_link": true
    },
    "kernelspec": {
      "name": "python3",
      "display_name": "Python 3"
    },
    "language_info": {
      "name": "python"
    }
  },
  "cells": [
    {
      "cell_type": "markdown",
      "metadata": {
        "id": "view-in-github",
        "colab_type": "text"
      },
      "source": [
        "<a href=\"https://colab.research.google.com/github/eleskin/practice/blob/main/%D0%A2%D0%B5%D1%81%D1%82%D0%B8%D1%80%D0%BE%D0%B2%D0%B0%D0%BD%D0%B8%D0%B5_%D1%81%D0%BB%D1%83%D1%87%D0%B0%D0%B9%D0%BD%D0%BE%D0%B9_%D0%B2%D0%B5%D0%BB%D0%B8%D1%87%D0%B8%D0%BD%D1%8B_%D0%BD%D0%B0_%D0%BD%D0%BE%D1%80%D0%BC%D0%B0%D0%BB%D1%8C%D0%BD%D0%BE%D1%81%D1%82%D1%8C_%D1%80%D0%B0%D1%81%D0%BF%D1%80%D0%B5%D0%B4%D0%B5%D0%BB%D0%B5%D0%BD%D0%B8%D1%8F.ipynb\" target=\"_parent\"><img src=\"https://colab.research.google.com/assets/colab-badge.svg\" alt=\"Open In Colab\"/></a>"
      ]
    },
    {
      "cell_type": "markdown",
      "source": [
        "### Тестирование случайной величины на нормальность распределения"
      ],
      "metadata": {
        "id": "QcOMH4_oUWKz"
      }
    },
    {
      "cell_type": "markdown",
      "source": [
        "Пусть для случайной величины, распределенной по нормальному закону распределения сформулированы нулевая и альтернативная гипотезы: Согласно нулевой гипотезе, данные имеют нормальное распредение, согласно альтернативной гипотезе, данные имеют избыточный экцсесс и ассиметричны"
      ],
      "metadata": {
        "id": "JFKbOOBnUdld"
      }
    },
    {
      "cell_type": "code",
      "source": [
        "import numpy as np\n",
        "import scipy.stats as stats"
      ],
      "metadata": {
        "id": "4gbqw9mJVOnv"
      },
      "execution_count": null,
      "outputs": []
    },
    {
      "cell_type": "code",
      "source": [
        "data = np.random.normal(0, 1, 5000)"
      ],
      "metadata": {
        "id": "z4Hb4hwcVNZB"
      },
      "execution_count": null,
      "outputs": []
    },
    {
      "cell_type": "code",
      "source": [
        "jarque_bera_test = stats.jarque_bera(data)\n",
        "statistics = jarque_bera_test[0]\n",
        "pvalue = jarque_bera_test[1]"
      ],
      "metadata": {
        "id": "QGBxyRIsVU0v"
      },
      "execution_count": null,
      "outputs": []
    },
    {
      "cell_type": "code",
      "source": [
        "if pvalue < 0.05 :\n",
        "  print('Нулевая гипотеза отвергается')\n",
        "else :\n",
        "  print('Нулевая гипотеза не отвергается')"
      ],
      "metadata": {
        "colab": {
          "base_uri": "https://localhost:8080/"
        },
        "id": "AwBwMtPTWc3_",
        "outputId": "298a748c-2d85-4c4e-c0a2-c55fe87c7986"
      },
      "execution_count": null,
      "outputs": [
        {
          "output_type": "stream",
          "name": "stdout",
          "text": [
            "Нулевая гипотеза не отвергается\n"
          ]
        }
      ]
    }
  ]
}