{
  "nbformat": 4,
  "nbformat_minor": 0,
  "metadata": {
    "colab": {
      "name": "Тестирование на однородность выборочных данных: проверка гипотез о равенстве средних на независимых выборках",
      "provenance": [],
      "collapsed_sections": [],
      "authorship_tag": "ABX9TyObgR+Q2LFYRmGDYsKTTCrJ",
      "include_colab_link": true
    },
    "kernelspec": {
      "name": "python3",
      "display_name": "Python 3"
    },
    "language_info": {
      "name": "python"
    }
  },
  "cells": [
    {
      "cell_type": "markdown",
      "metadata": {
        "id": "view-in-github",
        "colab_type": "text"
      },
      "source": [
        "<a href=\"https://colab.research.google.com/github/eleskin/practice/blob/main/%D0%A2%D0%B5%D1%81%D1%82%D0%B8%D1%80%D0%BE%D0%B2%D0%B0%D0%BD%D0%B8%D0%B5_%D0%BD%D0%B0_%D0%BE%D0%B4%D0%BD%D0%BE%D1%80%D0%BE%D0%B4%D0%BD%D0%BE%D1%81%D1%82%D1%8C_%D0%B2%D1%8B%D0%B1%D0%BE%D1%80%D0%BE%D1%87%D0%BD%D1%8B%D1%85_%D0%B4%D0%B0%D0%BD%D0%BD%D1%8B%D1%85_%D0%BF%D1%80%D0%BE%D0%B2%D0%B5%D1%80%D0%BA%D0%B0_%D0%B3%D0%B8%D0%BF%D0%BE%D1%82%D0%B5%D0%B7_%D0%BE_%D1%80%D0%B0%D0%B2%D0%B5%D0%BD%D1%81%D1%82%D0%B2%D0%B5_%D1%81%D1%80%D0%B5%D0%B4%D0%BD%D0%B8%D1%85_%D0%BD%D0%B0_%D0%BD%D0%B5%D0%B7%D0%B0%D0%B2%D0%B8%D1%81%D0%B8%D0%BC%D1%8B%D1%85_%D0%B2%D1%8B%D0%B1%D0%BE%D1%80%D0%BA%D0%B0%D1%85.ipynb\" target=\"_parent\"><img src=\"https://colab.research.google.com/assets/colab-badge.svg\" alt=\"Open In Colab\"/></a>"
      ]
    },
    {
      "cell_type": "markdown",
      "source": [
        "### Тестирование на однородность выборочных данных: проверка гипотез о равенстве средних на независимых выборках"
      ],
      "metadata": {
        "id": "5Ss7FLJ1iv7h"
      }
    },
    {
      "cell_type": "markdown",
      "source": [
        "Доходы аптек одного из микрорайонов города за некоторый период составили 128; 192; 223; 398; 205; 266; 219; 260; 264; 98 (условных единиц). В соседнем микрорайоне за то же время они были равны 286; 240; 263; 266; 484; 223; 335. Согласно нулевой гипотеле, генеральные средние равны (альтернативная гипотеза – не равны)."
      ],
      "metadata": {
        "id": "_Tl2m58GkSQ_"
      }
    },
    {
      "cell_type": "code",
      "source": [
        "import numpy as np\n",
        "from math import sqrt\n",
        "import scipy.stats"
      ],
      "metadata": {
        "id": "ZL_q17OanS0q"
      },
      "execution_count": 42,
      "outputs": []
    },
    {
      "cell_type": "code",
      "execution_count": 43,
      "metadata": {
        "id": "_bEbERURit28"
      },
      "outputs": [],
      "source": [
        "a = [128, 192, 223, 398, 205, 266, 219, 260, 264, 98]\n",
        "b = [286, 240, 263, 266, 484, 223, 335]"
      ]
    },
    {
      "cell_type": "code",
      "source": [
        "meanA = np.mean(a)\n",
        "meanB = np.mean(b)\n",
        "\n",
        "varianceA = np.var(a)\n",
        "varianceB = np.var(b)"
      ],
      "metadata": {
        "id": "VXW-ELggnZF1"
      },
      "execution_count": 44,
      "outputs": []
    },
    {
      "cell_type": "code",
      "source": [
        "# t = (abs(meanA - meanB) * (len(a) * len(b) * (len(a) + len(b) - 2)))/(sqrt(len(a) * varianceA + len(b) * varianceB) * (len(a) + len(b)))\n",
        "t = (abs(meanA - meanB) / (sqrt(len(a) * varianceA + len(b) * varianceB))) * ((len(a) * len(b) * (len(a) + len(b) - 2) / (len(a) + len(b))))"
      ],
      "metadata": {
        "id": "YiKYZW7QnjsV"
      },
      "execution_count": 45,
      "outputs": []
    },
    {
      "cell_type": "code",
      "source": [
        "alpha = 0.05\n",
        "df = len(a) + len(b) - 2\n",
        "\n",
        "t_critical = scipy.stats.t.ppf(alpha / 2, df)\n",
        "statistic, pvalue = scipy.stats. ttest_ind(a, b)"
      ],
      "metadata": {
        "id": "UVJmbZtjn02a"
      },
      "execution_count": 46,
      "outputs": []
    },
    {
      "cell_type": "code",
      "source": [
        "if abs(statistic) < t_critical:\n",
        "  print('Нулевая гипотеза принимается')\n",
        "else:\n",
        "  print('Нулевая гипотеза отвергается')"
      ],
      "metadata": {
        "colab": {
          "base_uri": "https://localhost:8080/"
        },
        "id": "xxalfpRswM0d",
        "outputId": "dbe17a23-435a-4cd0-d609-b0d3ba812bf4"
      },
      "execution_count": 47,
      "outputs": [
        {
          "output_type": "stream",
          "name": "stdout",
          "text": [
            "Нулевая гипотеза отвергается\n"
          ]
        }
      ]
    }
  ]
}