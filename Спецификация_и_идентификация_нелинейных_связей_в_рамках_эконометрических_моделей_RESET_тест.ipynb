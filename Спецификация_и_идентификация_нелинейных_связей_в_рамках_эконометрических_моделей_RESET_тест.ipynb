{
  "cells": [
    {
      "cell_type": "markdown",
      "metadata": {
        "id": "view-in-github",
        "colab_type": "text"
      },
      "source": [
        "<a href=\"https://colab.research.google.com/github/eleskin/practice/blob/main/%D0%A1%D0%BF%D0%B5%D1%86%D0%B8%D1%84%D0%B8%D0%BA%D0%B0%D1%86%D0%B8%D1%8F_%D0%B8_%D0%B8%D0%B4%D0%B5%D0%BD%D1%82%D0%B8%D1%84%D0%B8%D0%BA%D0%B0%D1%86%D0%B8%D1%8F_%D0%BD%D0%B5%D0%BB%D0%B8%D0%BD%D0%B5%D0%B9%D0%BD%D1%8B%D1%85_%D1%81%D0%B2%D1%8F%D0%B7%D0%B5%D0%B9_%D0%B2_%D1%80%D0%B0%D0%BC%D0%BA%D0%B0%D1%85_%D1%8D%D0%BA%D0%BE%D0%BD%D0%BE%D0%BC%D0%B5%D1%82%D1%80%D0%B8%D1%87%D0%B5%D1%81%D0%BA%D0%B8%D1%85_%D0%BC%D0%BE%D0%B4%D0%B5%D0%BB%D0%B5%D0%B9_RESET_%D1%82%D0%B5%D1%81%D1%82.ipynb\" target=\"_parent\"><img src=\"https://colab.research.google.com/assets/colab-badge.svg\" alt=\"Open In Colab\"/></a>"
      ]
    },
    {
      "cell_type": "markdown",
      "source": [
        "\n",
        "### Спецификация и идентификация нелинейных связей в рамках эконометрических моделей. RESET-тест"
      ],
      "metadata": {
        "id": "0_OrElSJbjMI"
      }
    },
    {
      "cell_type": "markdown",
      "source": [
        "Reset-тест позволяет выявить ошибку спецификации, связанные с пропуском существенных переменных. Его используют для выбора между 2 гипотезами: \n",
        "модель правильно специфицирована,\n",
        "модель неправильно специфицирована"
      ],
      "metadata": {
        "id": "lsCnCLVryKVu"
      }
    },
    {
      "cell_type": "code",
      "source": [
        "import statsmodels.api as sm\n",
        "import statsmodels.formula.api as smf\n",
        "import statsmodels.stats.diagnostic as smd\n",
        "import re"
      ],
      "metadata": {
        "id": "yPPPZKPJYbjp"
      },
      "execution_count": 35,
      "outputs": []
    },
    {
      "cell_type": "code",
      "source": [
        "housesprices_object = sm.datasets.get_rdataset(dataname=\"HousePrices\", package=\"AER\", cache=True)\n",
        "housesprices = housesprices_object.data\n",
        "print(housesprices.iloc[:, 0:3].head())"
      ],
      "metadata": {
        "colab": {
          "base_uri": "https://localhost:8080/"
        },
        "id": "EGycbsf6YwWt",
        "outputId": "0dd916f5-651a-4404-a90c-55c192db0108"
      },
      "execution_count": 36,
      "outputs": [
        {
          "output_type": "stream",
          "name": "stdout",
          "text": [
            "     price  lotsize  bedrooms\n",
            "0  42000.0     5850         3\n",
            "1  38500.0     4000         2\n",
            "2  49500.0     3060         3\n",
            "3  60500.0     6650         3\n",
            "4  61000.0     6360         2\n"
          ]
        }
      ]
    },
    {
      "cell_type": "code",
      "source": [
        "alpha = 0.05\n",
        "mlr = smf.ols(formula=\"price ~ lotsize + bedrooms\", data=housesprices).fit()"
      ],
      "metadata": {
        "id": "2Nn2aG_JZAsE"
      },
      "execution_count": 37,
      "outputs": []
    },
    {
      "cell_type": "code",
      "source": [
        "resettest = smd.linear_reset(res=mlr, power=2, test_type=\"fitted\", use_f=True)\n",
        "resettest = float(' '.join(re.findall(r'p=([^<>]+), df_denom', str(resettest))))"
      ],
      "metadata": {
        "colab": {
          "base_uri": "https://localhost:8080/",
          "height": 182
        },
        "id": "_7qJfr60cy0i",
        "outputId": "3fda2e51-0909-4db4-a35c-e90b773e8cec"
      },
      "execution_count": 38,
      "outputs": [
        {
          "output_type": "error",
          "ename": "AttributeError",
          "evalue": "ignored",
          "traceback": [
            "\u001b[0;31m---------------------------------------------------------------------------\u001b[0m",
            "\u001b[0;31mAttributeError\u001b[0m                            Traceback (most recent call last)",
            "\u001b[0;32m<ipython-input-38-c1d98533d58b>\u001b[0m in \u001b[0;36m<module>\u001b[0;34m()\u001b[0m\n\u001b[0;32m----> 1\u001b[0;31m \u001b[0mresettest\u001b[0m \u001b[0;34m=\u001b[0m \u001b[0msmd\u001b[0m\u001b[0;34m.\u001b[0m\u001b[0mlinear_reset\u001b[0m\u001b[0;34m(\u001b[0m\u001b[0mres\u001b[0m\u001b[0;34m=\u001b[0m\u001b[0mmlr\u001b[0m\u001b[0;34m,\u001b[0m \u001b[0mpower\u001b[0m\u001b[0;34m=\u001b[0m\u001b[0;36m2\u001b[0m\u001b[0;34m,\u001b[0m \u001b[0mtest_type\u001b[0m\u001b[0;34m=\u001b[0m\u001b[0;34m\"fitted\"\u001b[0m\u001b[0;34m,\u001b[0m \u001b[0muse_f\u001b[0m\u001b[0;34m=\u001b[0m\u001b[0;32mTrue\u001b[0m\u001b[0;34m)\u001b[0m\u001b[0;34m\u001b[0m\u001b[0;34m\u001b[0m\u001b[0m\n\u001b[0m\u001b[1;32m      2\u001b[0m \u001b[0mresettest\u001b[0m \u001b[0;34m=\u001b[0m \u001b[0mfloat\u001b[0m\u001b[0;34m(\u001b[0m\u001b[0;34m' '\u001b[0m\u001b[0;34m.\u001b[0m\u001b[0mjoin\u001b[0m\u001b[0;34m(\u001b[0m\u001b[0mre\u001b[0m\u001b[0;34m.\u001b[0m\u001b[0mfindall\u001b[0m\u001b[0;34m(\u001b[0m\u001b[0;34mr'p=([^<>]+), df_denom'\u001b[0m\u001b[0;34m,\u001b[0m \u001b[0mstr\u001b[0m\u001b[0;34m(\u001b[0m\u001b[0mresettest\u001b[0m\u001b[0;34m)\u001b[0m\u001b[0;34m)\u001b[0m\u001b[0;34m)\u001b[0m\u001b[0;34m)\u001b[0m\u001b[0;34m\u001b[0m\u001b[0;34m\u001b[0m\u001b[0m\n",
            "\u001b[0;31mAttributeError\u001b[0m: module 'statsmodels.stats.diagnostic' has no attribute 'linear_reset'"
          ]
        }
      ]
    },
    {
      "cell_type": "code",
      "source": [
        "if resettest <= alpha:\n",
        "  print('Нулевая гипотеза не отвергается')\n",
        "else:\n",
        "  print('Нулевая гипотеза отвергается')"
      ],
      "metadata": {
        "id": "VpfJq755yv9y"
      },
      "execution_count": null,
      "outputs": []
    }
  ],
  "metadata": {
    "colab": {
      "collapsed_sections": [],
      "name": "Спецификация и идентификация нелинейных связей в рамках эконометрических моделей. RESET-тест",
      "toc_visible": true,
      "provenance": [],
      "include_colab_link": true
    },
    "kernelspec": {
      "display_name": "Python 3",
      "name": "python3"
    }
  },
  "nbformat": 4,
  "nbformat_minor": 0
}